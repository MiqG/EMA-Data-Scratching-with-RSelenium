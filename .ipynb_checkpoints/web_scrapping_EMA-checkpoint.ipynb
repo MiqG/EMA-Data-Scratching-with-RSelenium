{
 "cells": [
  {
   "cell_type": "markdown",
   "metadata": {},
   "source": [
    "# Data Scrapping form the European Medicines Agency (EMA)\n",
    "## *Miquel Anglada Girotto*"
   ]
  },
  {
   "cell_type": "markdown",
   "metadata": {},
   "source": [
    "## Load required dependencies"
   ]
  },
  {
   "cell_type": "code",
   "execution_count": 3,
   "metadata": {},
   "outputs": [],
   "source": [
    "# libraries\n",
    "library(RSelenium)\n",
    "library(stringr)\n",
    "\n",
    "# self-made package\n",
    "source(\"EMA_webScrapping.R\")"
   ]
  },
  {
   "cell_type": "markdown",
   "metadata": {},
   "source": [
    "## Set parameters"
   ]
  },
  {
   "cell_type": "code",
   "execution_count": null,
   "metadata": {},
   "outputs": [],
   "source": [
    "# start automated navigator\n",
    "initRSelenium()\n",
    "\n",
    "# Navigate to a list of all drugs\n",
    "url = \"https://www.ema.europa.eu/medicines/field_ema_web_categories%253Aname_field/Human/ema_group_types/ema_medicine\"\n",
    "remDr$navigate(url)\n",
    "\n",
    "# Define pages to look through\n",
    "page <- \"https://www.ema.europa.eu/en/medicines/field_ema_web_categories%253Aname_field/Human/ema_group_types/ema_medicine?page=\" #link to navigate through each page of the list.\n",
    "n <- as.character(round(1495/25)-1) #no. of pages to navigate, as.character() to allow pasting with the 'page' string."
   ]
  },
  {
   "cell_type": "markdown",
   "metadata": {},
   "source": [
    "## Download information from each drug"
   ]
  },
  {
   "cell_type": "code",
   "execution_count": null,
   "metadata": {},
   "outputs": [],
   "source": [
    "# Obtain each drug's link\n",
    "drug_links = getURLs(page,n)\n",
    "\n",
    "# Use drug links to retrieve information from EMA's webpage for each drug\n",
    "# (Slow)\n",
    "drugsDB = getDrugInfo(drug_links)"
   ]
  },
  {
   "cell_type": "markdown",
   "metadata": {},
   "source": [
    "## Save information in spreadsheet"
   ]
  },
  {
   "cell_type": "code",
   "execution_count": null,
   "metadata": {},
   "outputs": [],
   "source": [
    "# reshape dataframe and fill when features available\n",
    "drug_df = processTable(drugsDB)\n",
    "\n",
    "# save\n",
    "file_name = \"drug_df_EMA.csv\"\n",
    "#saveTable(drug_df,file_name)"
   ]
  },
  {
   "cell_type": "markdown",
   "metadata": {},
   "source": [
    "# Exploratory Data Analysis"
   ]
  },
  {
   "cell_type": "code",
   "execution_count": 87,
   "metadata": {},
   "outputs": [],
   "source": [
    "# load\n",
    "drug_df = read.table('drug_df_EMA.csv',sep=',',header=T,stringsAsFactors = F)"
   ]
  },
  {
   "cell_type": "code",
   "execution_count": 24,
   "metadata": {},
   "outputs": [
    {
     "data": {
      "text/html": [
       "'Total EMA registered drugs: 1272'"
      ],
      "text/latex": [
       "'Total EMA registered drugs: 1272'"
      ],
      "text/markdown": [
       "'Total EMA registered drugs: 1272'"
      ],
      "text/plain": [
       "[1] \"Total EMA registered drugs: 1272\""
      ]
     },
     "metadata": {},
     "output_type": "display_data"
    },
    {
     "data": {
      "text/html": [
       "'Table fields:'"
      ],
      "text/latex": [
       "'Table fields:'"
      ],
      "text/markdown": [
       "'Table fields:'"
      ],
      "text/plain": [
       "[1] \"Table fields:\""
      ]
     },
     "metadata": {},
     "output_type": "display_data"
    },
    {
     "name": "stdout",
     "output_type": "stream",
     "text": [
      " [1] \"Name\"                                                                        \n",
      " [2] \"Agency.product.number\"                                                       \n",
      " [3] \"Active.substance\"                                                            \n",
      " [4] \"International.non.proprietary.name..INN..or.common.name\"                     \n",
      " [5] \"Therapeutic.area..MeSH.\"                                                     \n",
      " [6] \"Anatomical.therapeutic.chemical..ATC..code\"                                  \n",
      " [7] \"Generic\"                                                                     \n",
      " [8] \"Marketing.authorisation.holder\"                                              \n",
      " [9] \"Revision\"                                                                    \n",
      "[10] \"Date.of.issue.of.marketing.authorisation.valid.throughout.the.European.Union\"\n",
      "[11] \"Contact.address\"                                                             \n",
      "[12] \"Additional.monitoring\"                                                       \n",
      "[13] \"Orphan\"                                                                      \n",
      "[14] \"Conditional.approval\"                                                        \n",
      "[15] \"Biosimilar\"                                                                  \n",
      "[16] \"Marketing.autorisation.applicant\"                                            \n",
      "[17] \"Date.of.opinion\"                                                             \n",
      "[18] \"Exceptional.circumstances\"                                                   \n",
      "[19] \"Date.of.refusal.of.marketing.authorisation\"                                  \n",
      "[20] \"Countries\"                                                                   \n"
     ]
    }
   ],
   "source": [
    "# Number of registered drugs\n",
    "paste('Total EMA registered drugs:',nrow(drug_df))\n",
    "\n",
    "# Fields names\n",
    "\"Table fields:\"\n",
    "print(colnames(drug_df))"
   ]
  },
  {
   "cell_type": "markdown",
   "metadata": {},
   "source": [
    "## What are the most common therapeutic areas?"
   ]
  },
  {
   "cell_type": "code",
   "execution_count": 53,
   "metadata": {},
   "outputs": [
    {
     "data": {
      "text/html": [
       "'Diversity in therapeutic areas: 509'"
      ],
      "text/latex": [
       "'Diversity in therapeutic areas: 509'"
      ],
      "text/markdown": [
       "'Diversity in therapeutic areas: 509'"
      ],
      "text/plain": [
       "[1] \"Diversity in therapeutic areas: 509\""
      ]
     },
     "metadata": {},
     "output_type": "display_data"
    },
    {
     "data": {
      "text/html": [
       "'Top 10:'"
      ],
      "text/latex": [
       "'Top 10:'"
      ],
      "text/markdown": [
       "'Top 10:'"
      ],
      "text/plain": [
       "[1] \"Top 10:\""
      ]
     },
     "metadata": {},
     "output_type": "display_data"
    },
    {
     "data": {
      "text/plain": [
       "\n",
       "     Diabetes Mellitus, Type 2                 HIV Infections \n",
       "                    0.15839243                     0.14420804 \n",
       "                  Immunization                   Hypertension \n",
       "                    0.12056738                     0.10401891 \n",
       "              Breast Neoplasms          Myocardial Infarction \n",
       "                    0.09929078                     0.09456265 \n",
       "Carcinoma, Non-Small-Cell Lung          Arthritis, Rheumatoid \n",
       "                    0.09219858                     0.08510638 \n",
       "                        Cancer              Diabetes Mellitus \n",
       "                    0.08274232                     0.06855792 "
      ]
     },
     "metadata": {},
     "output_type": "display_data"
    },
    {
     "data": {
      "text/html": [
       "'Last 10:'"
      ],
      "text/latex": [
       "'Last 10:'"
      ],
      "text/markdown": [
       "'Last 10:'"
      ],
      "text/plain": [
       "[1] \"Last 10:\""
      ]
     },
     "metadata": {},
     "output_type": "display_data"
    },
    {
     "data": {
      "text/plain": [
       "\n",
       "                Acromegaly                    Adenoma \n",
       "               0.002364066                0.002364066 \n",
       "Adenomatous Polyposis Coli   Adrenal Cortex Neoplasms \n",
       "               0.002364066                0.002364066 \n",
       "     Adrenal Insufficiency  Alcohol-Related Disorders \n",
       "               0.002364066                0.002364066 \n",
       "        alpha-Mannosidosis      Amyloidosis, Familial \n",
       "               0.002364066                0.002364066 \n",
       "   Anemia, Iron-Deficiency        Anemia, Sickle Cell \n",
       "               0.002364066                0.002364066 "
      ]
     },
     "metadata": {},
     "output_type": "display_data"
    }
   ],
   "source": [
    "# list drugs and their therapeutic area MeSH\n",
    "\n",
    "# split mesh terms\n",
    "list_mesh <- lapply(drug_df$Therapeutic.area..MeSH.,split=\"\\n\",strsplit)\n",
    "\n",
    "# add drug names\n",
    "attributes(list_mesh)$names <- drug_df$Name\n",
    "\n",
    "# compute total diversity\n",
    "paste('Diversity in therapeutic areas:',length(unique(list_mesh)))\n",
    "\n",
    "# compute frequency table of MeSH terms\n",
    "tab_mesh = table(unlist(list_mesh))\n",
    "tab_mesh = tab_mesh/length(tab_mesh)\n",
    "\n",
    "'Top 10:'\n",
    "sort(tab_mesh,decreasing = T)[1:10]\n",
    "\n",
    "'Last 10:'\n",
    "sort(tab_mesh,decreasing = F)[1:10]"
   ]
  },
  {
   "cell_type": "markdown",
   "metadata": {},
   "source": [
    "## How many drugs are generics?"
   ]
  },
  {
   "cell_type": "code",
   "execution_count": 79,
   "metadata": {},
   "outputs": [
    {
     "data": {
      "image/png": "[encoded data removed]",
      "text/plain": [
       "Plot with title “EMA Generics”"
      ]
     },
     "metadata": {},
     "output_type": "display_data"
    }
   ],
   "source": [
    "# list drugs and whether they are generic or not\n",
    "list_gene = drug_df['Generic']!=''\n",
    "names(list_gene) = drug_df['Name']\n",
    "\n",
    "# visualize\n",
    "barplot(table(list_gene), main = 'EMA Generics',col=c('darkorange','darkblue'),names.arg = c('Not generic','Generic'))\n",
    "legend('topright',legend = c('Not generic','Generic'),fill = c('darkorange','darkblue'))"
   ]
  },
  {
   "cell_type": "markdown",
   "metadata": {
    "jupyter": {
     "outputs_hidden": true
    }
   },
   "source": [
    "drug_df$Marketing.authorisation.holder\n",
    "\n",
    "drug_df$Revision\n",
    "\n",
    "drug_df$Contact.address\n",
    "\n",
    "drug_df$Additional.monitoring\n",
    "\n",
    "drug_df$Orphan\n",
    "\n",
    "drug_df$Countries\n",
    "\n",
    "drug_df$Exceptional.circumstances\n",
    "\n",
    "drug_df$Date.of.issue.of.marketing.authorisation.valid.throughout.the.European.Union"
   ]
  }
 ],
 "metadata": {
  "kernelspec": {
   "display_name": "R",
   "language": "R",
   "name": "ir"
  },
  "language_info": {
   "codemirror_mode": "r",
   "file_extension": ".r",
   "mimetype": "text/x-r-source",
   "name": "R",
   "pygments_lexer": "r",
   "version": "3.6.1"
  }
 },
 "nbformat": 4,
 "nbformat_minor": 4
}
