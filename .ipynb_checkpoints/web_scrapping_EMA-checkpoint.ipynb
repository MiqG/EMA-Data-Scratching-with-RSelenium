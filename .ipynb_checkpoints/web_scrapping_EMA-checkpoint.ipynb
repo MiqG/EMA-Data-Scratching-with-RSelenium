{
 "cells": [
  {
   "cell_type": "markdown",
   "metadata": {},
   "source": [
    "# Data Scrapping form the European Medicines Agency (EMA)\n",
    "## *Miquel Anglada Girotto*\n",
    "\n",
    "\n",
    "In this notebook, I use the package \"RSelenium\" to obtain the information published for each drug in the European Medicines Agency (EMA) webpage.\n",
    "\n",
    "Before each chunk, I try to summarize what the code below will be doing. More detailed description can be found inline for those parts of the code that I found may be confusing."
   ]
  },
  {
   "cell_type": "markdown",
   "metadata": {},
   "source": [
    "## 0. Load required dependencies"
   ]
  },
  {
   "cell_type": "code",
   "execution_count": 16,
   "metadata": {},
   "outputs": [],
   "source": [
    "# libraries\n",
    "library(RSelenium)\n",
    "library(stringr)\n",
    "library(xlsx)\n",
    "\n",
    "# self-made package\n",
    "source(\"functions_web_scrapping.R\")"
   ]
  },
  {
   "cell_type": "markdown",
   "metadata": {},
   "source": [
    "## 1. Set parameters"
   ]
  },
  {
   "cell_type": "code",
   "execution_count": null,
   "metadata": {},
   "outputs": [],
   "source": [
    "# start automated navigator\n",
    "initRSelenium()\n",
    "\n",
    "# Navigate to a list of all drugs\n",
    "url = \"https://www.ema.europa.eu/medicines/field_ema_web_categories%253Aname_field/Human/ema_group_types/ema_medicine\"\n",
    "remDr$navigate(url)\n",
    "\n",
    "# Define pages to look through\n",
    "page <- \"https://www.ema.europa.eu/en/medicines/field_ema_web_categories%253Aname_field/Human/ema_group_types/ema_medicine?page=\" #link to navigate through each page of the list.\n",
    "n <- as.character(round(1495/25)-1) #no. of pages to navigate, as.character() to allow pasting with the 'page' string."
   ]
  },
  {
   "cell_type": "markdown",
   "metadata": {},
   "source": [
    "## 2. Download information from each drug"
   ]
  },
  {
   "cell_type": "code",
   "execution_count": null,
   "metadata": {},
   "outputs": [],
   "source": [
    "# Obtain each drug's link\n",
    "drug_links = getURLs(page,n)\n",
    "\n",
    "# Use drug links to retrieve information from EMA's webpage for each drug\n",
    "# (Slow)\n",
    "drugsDB = getDrugInfo(drug_links)"
   ]
  },
  {
   "cell_type": "markdown",
   "metadata": {},
   "source": [
    "## 3. Save information in spreadsheet"
   ]
  },
  {
   "cell_type": "code",
   "execution_count": null,
   "metadata": {},
   "outputs": [],
   "source": [
    "# reshape dataframe and fill when features available\n",
    "drug_df = processTable(drugsDB)\n",
    "\n",
    "# save\n",
    "file_name = \"drugs_df_EMA.csv\"\n",
    "#saveTable(drug_df,file_name)"
   ]
  },
  {
   "cell_type": "markdown",
   "metadata": {},
   "source": [
    "## 4. Exploratory Data Analysis"
   ]
  },
  {
   "cell_type": "code",
   "execution_count": 21,
   "metadata": {},
   "outputs": [],
   "source": [
    "drug_df = read.table('drugs_df_EMA.csv',sep=',',header=T,stringsAsFactors = F)"
   ]
  },
  {
   "cell_type": "code",
   "execution_count": null,
   "metadata": {},
   "outputs": [],
   "source": []
  }
 ],
 "metadata": {
  "kernelspec": {
   "display_name": "R",
   "language": "R",
   "name": "ir"
  },
  "language_info": {
   "codemirror_mode": "r",
   "file_extension": ".r",
   "mimetype": "text/x-r-source",
   "name": "R",
   "pygments_lexer": "r",
   "version": "3.6.1"
  }
 },
 "nbformat": 4,
 "nbformat_minor": 4
}
